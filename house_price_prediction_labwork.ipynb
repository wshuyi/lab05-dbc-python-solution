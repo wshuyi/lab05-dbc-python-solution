{
 "cells": [
  {
   "cell_type": "code",
   "execution_count": null,
   "id": "00cd2033",
   "metadata": {},
   "outputs": [],
   "source": []
  },
  {
   "cell_type": "code",
   "execution_count": null,
   "id": "be758cdf",
   "metadata": {
    "lines_to_next_cell": 2
   },
   "outputs": [],
   "source": [
    "\n",
    "\n",
    "# libraries\n",
    "\n",
    "import pandas as pd\n",
    "from sklearn import linear_model\n",
    "import numpy as np\n",
    "import matplotlib.pyplot as plt"
   ]
  },
  {
   "cell_type": "code",
   "execution_count": null,
   "id": "7588fd0a",
   "metadata": {
    "lines_to_next_cell": 2
   },
   "outputs": [],
   "source": [
    "\n",
    "\n",
    "# Read the JSON file (After you completed Step 1 of the instructions)\n",
    "\n",
    "json_file_name = 'houses.json'\n",
    "house = pd.read_json(json_file_name)"
   ]
  },
  {
   "cell_type": "code",
   "execution_count": null,
   "id": "a1ff32a4",
   "metadata": {
    "lines_to_next_cell": 2
   },
   "outputs": [],
   "source": [
    "\n",
    "\n",
    "# Build Linear Regression Model (Step 2 of instructions)\n",
    "\n",
    "regr = linear_model.LinearRegression()\n",
    "regr.fit(house[['sqft_living']], house[['price']])\n",
    "intercept = regr.intercept_[0]\n",
    "coef = regr.coef_[0][0]\n",
    "print(\"intercept = {}\".format(intercept))\n",
    "print(\"coef = {}\".format(coef))"
   ]
  },
  {
   "cell_type": "code",
   "execution_count": null,
   "id": "4f2af3eb",
   "metadata": {
    "lines_to_next_cell": 2
   },
   "outputs": [],
   "source": [
    "\n",
    "\n",
    "# Make Preditions (Step 3 of instructions)\n",
    "# todo: uncomment the following lines, and complete the test_array with all the required values\n",
    "\n",
    "# test_array = [1000, 1200, 1400, 1600, 1800, ..., 3600, 3800, 4000]\n",
    "results = regr.predict(np.array(test_array).reshape(-1,1)).reshape(1,-1)[0]\n",
    "for sqft_living, price in zip(test_array, results):\n",
    "    print(\"sqft_living: {}, price: {:0.3f}\".format(sqft_living, price))"
   ]
  },
  {
   "cell_type": "code",
   "execution_count": null,
   "id": "7950097c",
   "metadata": {
    "lines_to_next_cell": 2
   },
   "outputs": [],
   "source": [
    "\n",
    "\n",
    "# Visualization (Step 4 of instructions)\n",
    "\n",
    "prediction = pd.DataFrame(test_array, results).reset_index()\n",
    "prediction.columns = ['price', 'sqft_living']\n",
    "xs = np.linspace(0,5000,100)\n",
    "ys = xs * coef + intercept\n",
    "plt.scatter(house[['sqft_living']], house[['price']])\n",
    "plt.scatter(prediction[['sqft_living']], prediction[['price']], marker='^', color='red')\n",
    "plt.plot(xs, ys)\n",
    "plt.xlim(0,5000)\n",
    "plt.savefig('result.png')"
   ]
  },
  {
   "cell_type": "code",
   "execution_count": null,
   "id": "9382fb88",
   "metadata": {
    "lines_to_next_cell": 2
   },
   "outputs": [],
   "source": [
    "\n",
    "\n"
   ]
  }
 ],
 "metadata": {
  "jupytext": {
   "cell_metadata_filter": "-all",
   "encoding": "# coding: utf-8",
   "executable": "/usr/bin/env python",
   "main_language": "python",
   "notebook_metadata_filter": "-all"
  },
  "language_info": {
   "name": "python"
  }
 },
 "nbformat": 4,
 "nbformat_minor": 5
}
